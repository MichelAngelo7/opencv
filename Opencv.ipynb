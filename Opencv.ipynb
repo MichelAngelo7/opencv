{
  "nbformat": 4,
  "nbformat_minor": 0,
  "metadata": {
    "colab": {
      "name": "Opencv.ipynb",
      "provenance": [],
      "collapsed_sections": [],
      "authorship_tag": "ABX9TyPZExaHmvz4ijAOJuYstTYk",
      "include_colab_link": true
    },
    "kernelspec": {
      "name": "python3",
      "display_name": "Python 3"
    }
  },
  "cells": [
    {
      "cell_type": "markdown",
      "metadata": {
        "id": "view-in-github",
        "colab_type": "text"
      },
      "source": [
        "<a href=\"https://colab.research.google.com/github/MichelAngelo7/opencv/blob/master/Opencv.ipynb\" target=\"_parent\"><img src=\"https://colab.research.google.com/assets/colab-badge.svg\" alt=\"Open In Colab\"/></a>"
      ]
    },
    {
      "cell_type": "code",
      "metadata": {
        "id": "N6zWYuPSsE2T",
        "colab_type": "code",
        "colab": {}
      },
      "source": [
        "import cv2\n",
        "\n",
        "# Xml de classificacao da OpenCV\n",
        "classification = \"haarcascade_eye_tree_eyeglasses.xml\"\n",
        "\n",
        "# Setando a classificacao do xml da OpenCV para olhos\n",
        "faceCascade = cv2.CascadeClassifier(classification)\n",
        "\n",
        "# Ler a imagem\n",
        "image = cv2.imread(\"rosto.jpeg\")\n",
        "\n",
        "gray = cv2.cvtColor(image, cv2.COLOR_BGR2GRAY)\n",
        "\n",
        "# Fazer a deteccao da imagem\n",
        "faces = faceCascade.detectMultiScale(\n",
        "    gray,\n",
        "    scaleFactor=1.1,\n",
        "    minNeighbors=5,\n",
        "    minSize=(30, 30)\n",
        ")\n",
        "\n",
        "# Setar o retangulo amarelo\n",
        "for (x, y, w, h) in faces:\n",
        "    cv2.rectangle(image, (x, y), (x+w, y+h), (0, 255, 210), 2)\n",
        "\n",
        "# Exibir a imagem\n",
        "cv2.imshow(\"Titulo da imagem\", image)\n",
        "cv2.waitKey(0)"
      ],
      "execution_count": null,
      "outputs": []
    }
  ]
}